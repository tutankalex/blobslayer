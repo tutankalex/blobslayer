{
 "cells": [
  {
   "cell_type": "markdown",
   "metadata": {},
   "source": [
    "# core\n",
    "\n",
    "> Fill in a module description here"
   ]
  },
  {
   "cell_type": "code",
   "execution_count": null,
   "metadata": {},
   "outputs": [],
   "source": [
    "#| default_exp core"
   ]
  },
  {
   "cell_type": "code",
   "execution_count": null,
   "metadata": {},
   "outputs": [],
   "source": [
    "#| export\n",
    "import json\n",
    "import os\n",
    "import os.path as _p\n",
    "import sys\n",
    "import datetime\n",
    "import slugify\n",
    "import hashlib\n",
    "from fs.osfs import OSFS\n",
    "from pathlib import Path\n",
    "from schematized_config.core import ConfigValidator\n",
    "from blobslayer.DotenvSchema import DotenvSchema"
   ]
  },
  {
   "cell_type": "code",
   "execution_count": null,
   "metadata": {},
   "outputs": [],
   "source": [
    "#| hide\n",
    "from nbdev.showdoc import *\n",
    "from fastcore.test import *"
   ]
  },
  {
   "cell_type": "code",
   "execution_count": null,
   "metadata": {},
   "outputs": [],
   "source": [
    "def recursive_substitute(env_vars):\n",
    "    \"\"\"\n",
    "    Recursively substitute environment variables in the values of the env_vars dictionary.\n",
    "    \"\"\"\n",
    "    while True:\n",
    "        changed = False\n",
    "        for key, value in env_vars.items():\n",
    "            substituted_value = value\n",
    "            for k, v in env_vars.items():\n",
    "                # Substitute the value if the key is found in the value string\n",
    "                if f\"${k}\" in substituted_value:\n",
    "                    substituted_value = substituted_value.replace(f\"${k}\", v)\n",
    "                    changed = True\n",
    "            \n",
    "            env_vars[key] = substituted_value\n",
    "\n",
    "        # If no substitutions were made in this pass, break the loop\n",
    "        if not changed:\n",
    "            break\n",
    "\n",
    "    return env_vars"
   ]
  },
  {
   "cell_type": "code",
   "execution_count": null,
   "metadata": {},
   "outputs": [],
   "source": [
    "#| hide\n",
    "\n",
    "# REMOVE ME\n",
    "try:\n",
    "    cwd = os.getcwd()\n",
    "    os.chdir('..')\n",
    "    os.environ['CONFIG_VALIDATOR_JSON_SCHEMA'] = './schemas/dotenv.schema.json'\n",
    "    dotenv_path = 'dotenv'\n",
    "    if _p.exists(dotenv_path) and 'CONFIG_VALIDATOR_JSON_SCHEMA' in os.environ:\n",
    "        validated_dotenv = ConfigValidator.load_dotenv(\n",
    "            dotenv_path=dotenv_path,\n",
    "            storage_driver=OSFS('.'),\n",
    "        )  # use defaults of .env and CONFIG_VALIDATOR_JSON_SCHEMA\n",
    "\n",
    "    os.chdir('nbs')\n",
    "except Exception as e:\n",
    "    print('failed to load env:')\n",
    "    print(e)\n",
    "    os.chdir(cwd)\n",
    "\n",
    "Config = DotenvSchema(**recursive_substitute(validated_dotenv))"
   ]
  },
  {
   "cell_type": "code",
   "execution_count": null,
   "metadata": {},
   "outputs": [
    {
     "data": {
      "text/plain": [
       "'/mnt/c/Users/Alex Huang/Desktop/work/_blobslayer-storage'"
      ]
     },
     "execution_count": null,
     "metadata": {},
     "output_type": "execute_result"
    }
   ],
   "source": [
    "Config.STORAGE_DIRECTORY"
   ]
  },
  {
   "cell_type": "code",
   "execution_count": null,
   "metadata": {},
   "outputs": [],
   "source": [
    "def ensure_storage_directories_exist():    \n",
    "    Path(Config.STORAGE_DIRECTORY).mkdir(parents=True, exist_ok=True)\n",
    "    Path(Config.BLOBS_DIRECTORY).mkdir(parents=True, exist_ok=True)\n",
    "    Path(Config.METADATA_DIRECTORY).mkdir(parents=True, exist_ok=True)\n"
   ]
  },
  {
   "cell_type": "code",
   "execution_count": null,
   "metadata": {},
   "outputs": [],
   "source": [
    "ensure_storage_directories_exist()\n"
   ]
  },
  {
   "cell_type": "code",
   "execution_count": null,
   "metadata": {},
   "outputs": [],
   "source": [
    "def sha256sum(data: bytes) -> str:\n",
    "    return hashlib.sha256(data).hexdigest()\n",
    "\n",
    "def to_split_path(hash_path: str) -> str:\n",
    "    return f'{hash_path[:2]}/{hash_path[2:4]}/{hash_path[4:]}'\n",
    "\n",
    "def save_blob(data: bytes) -> str:\n",
    "    blob_key = sha256sum(data)\n",
    "    blob_path = to_split_path(blob_key)\n",
    "    blob_split_dir, blob_split_filename = _p.split(blob_path)\n",
    "    parent_dir = Path(Config.BLOBS_DIRECTORY) / blob_split_dir\n",
    "    parent_dir.mkdir(parents=True, exist_ok=True)\n",
    "    with OSFS(parent_dir) as myfs:\n",
    "        if myfs.exists(blob_split_filename):\n",
    "            return blob_key\n",
    "        with myfs.open(blob_split_filename, 'wb') as ofile:\n",
    "            ofile.write(data)\n",
    "    return blob_key\n",
    "\n",
    "def get_blob(blob_key: str):  # returns a file-like\n",
    "    blob_path = to_split_path(blob_key)\n",
    "    blob_split_dir, blob_split_filename = _p.split(blob_path)\n",
    "    parent_dir = Path(Config.BLOBS_DIRECTORY) / blob_split_dir\n",
    "    with OSFS(parent_dir) as myfs:\n",
    "        with myfs.open(blob_split_filename, 'rb') as ifile:\n",
    "            return ifile\n"
   ]
  },
  {
   "cell_type": "code",
   "execution_count": null,
   "metadata": {},
   "outputs": [],
   "source": [
    "#| hide\n",
    "import nbdev; nbdev.nbdev_export()"
   ]
  }
 ],
 "metadata": {
  "kernelspec": {
   "display_name": "python3",
   "language": "python",
   "name": "python3"
  }
 },
 "nbformat": 4,
 "nbformat_minor": 4
}
